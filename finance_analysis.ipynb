{
 "cells": [
  {
   "cell_type": "markdown",
   "metadata": {
    "collapsed": false
   },
   "source": [
    "# Setup the execution environment"
   ]
  },
  {
   "cell_type": "code",
   "execution_count": 1,
   "metadata": {
    "collapsed": false
   },
   "outputs": [
    {
     "name": "stderr",
     "output_type": "stream",
     "text": [
      "/home/super/anaconda/lib/python2.7/site-packages/matplotlib/font_manager.py:273: UserWarning: Matplotlib is building the font cache using fc-list. This may take a moment.\n",
      "  warnings.warn('Matplotlib is building the font cache using fc-list. This may take a moment.')\n"
     ]
    },
    {
     "name": "stdout",
     "output_type": "stream",
     "text": [
      "/home/super/source/finance_scrapy\n"
     ]
    }
   ],
   "source": [
    "import numpy as np\n",
    "import pandas as pd\n",
    "import matplotlib.pyplot as plt\n",
    "import seaborn as sns\n",
    "\n",
    "%matplotlib inline\n",
    "%cd /home/super/source/finance_scrapy\n",
    "# %pwd"
   ]
  },
  {
   "cell_type": "code",
   "execution_count": 45,
   "metadata": {
    "collapsed": true
   },
   "outputs": [],
   "source": [
    "\"\"\"This cell defineds the plot_candles function\"\"\"\n",
    "\"\"\"https://www.quantopian.com/posts/plot-candlestick-charts-in-research\"\"\"\n",
    "\n",
    "def plot_candles(pricing, title=None, volume_bars=False, color_function=None, technicals=None):\n",
    "    \"\"\" Plots a candlestick chart using quantopian pricing data.\n",
    "    \n",
    "    Author: Daniel Treiman\n",
    "    \n",
    "    Args:\n",
    "      pricing: A pandas dataframe with columns ['open', 'close', 'high', 'low', 'volume']\n",
    "      title: An optional title for the chart\n",
    "      volume_bars: If True, plots volume bars\n",
    "      color_function: A function which, given a row index and price series, returns a candle color.\n",
    "      technicals: A list of additional data series to add to the chart.  Must be the same length as pricing.\n",
    "    \"\"\"\n",
    "    def default_color(index, open_price, close_price, low_price, high_price):\n",
    "        return 'r' if open_price[index] > close_price[index] else 'g'\n",
    "    \n",
    "    color_function = color_function or default_color\n",
    "    technicals = technicals or []\n",
    "    open_price = pricing['open']\n",
    "    close_price = pricing['close']\n",
    "    low_price = pricing['low']\n",
    "    high_price = pricing['high']\n",
    "    oc = pd.concat([open_price, close_price], axis=1)\n",
    "    oc_min = oc.min(axis=1)\n",
    "    oc_max = oc.max(axis=1)\n",
    "\n",
    "#     plt.figure(figsize=(30, 25))\n",
    "#     ax = plt.subplot(111)\n",
    "\n",
    "    if volume_bars:\n",
    "        fig, (ax1, ax2) = plt.subplots(2, 1, sharex=True, gridspec_kw={'height_ratios': [3,1]})\n",
    "    else:\n",
    "        fig, ax1 = plt.subplots(1, 1)\n",
    "    if title:\n",
    "        ax1.set_title(title)\n",
    "\n",
    "    x = np.arange(len(pricing))\n",
    "    candle_colors = [color_function(i, open_price, close_price, low_price, high_price) for i in x]\n",
    "    candles = ax1.bar(x, oc_max-oc_min, bottom=oc_min, color=candle_colors, linewidth=0)\n",
    "    lines = ax1.vlines(x + 0.4, low_price, high_price, color=candle_colors, linewidth=1)\n",
    "    ax1.xaxis.grid(False)\n",
    "    ax1.xaxis.set_tick_params(which='major', length=3.0, direction='in', top='off')\n",
    "    # Assume minute frequency if first two bars are in the same day.\n",
    "    frequency = 'minute' if (pricing.index[1] - pricing.index[0]).days == 0 else 'day'\n",
    "    time_format = '%Y-%m-%d'\n",
    "    if frequency == 'minute':\n",
    "        time_format = '%H:%M'\n",
    "    # Set X axis tick labels.\n",
    "# type(pricing.index): <class 'pandas.tseries.index.DatetimeIndex'>\n",
    "# type(pricing.index[0]): <class 'pandas.tslib.Timestamp'>\n",
    "# Only mark the xtick of Monday\n",
    "    [x_tick, x_tick_lable] = zip(*[(x[index], date.strftime(time_format)) for index, date in enumerate(pricing.index) if date.weekday() == 0])\n",
    "    plt.xticks(x_tick, x_tick_lable, rotation='vertical')\n",
    "#     plt.xticks(x, [date.strftime(time_format) for date in pricing.index], rotation='vertical')\n",
    "    for indicator in technicals:\n",
    "        ax1.plot(x, indicator)\n",
    "    \n",
    "    if volume_bars:\n",
    "        volume = pricing['volume']\n",
    "        volume_scale = None\n",
    "        scaled_volume = volume\n",
    "        if volume.max() > 1000000:\n",
    "            volume_scale = 'M'\n",
    "            scaled_volume = volume / 1000000\n",
    "        elif volume.max() > 1000:\n",
    "            volume_scale = 'K'\n",
    "            scaled_volume = volume / 1000\n",
    "        ax2.bar(x, scaled_volume, color=candle_colors)\n",
    "        volume_title = 'Volume'\n",
    "        if volume_scale:\n",
    "            volume_title = 'Volume (%s)' % volume_scale\n",
    "        ax2.set_title(volume_title)\n",
    "        ax2.xaxis.grid(False)"
   ]
  },
  {
   "cell_type": "code",
   "execution_count": 51,
   "metadata": {
    "collapsed": false,
    "scrolled": false
   },
   "outputs": [
    {
     "name": "stdout",
     "output_type": "stream",
     "text": [
      "*** Time Period ***\n",
      "2017-10-02 - 2018-05-14\n",
      "*** Column Mapping ***\n",
      "0901: 成交股數\n",
      "0902: 成交金額\n",
      "0903: 開盤價\n",
      "0904: 最高價\n",
      "0905: 最低價\n",
      "0906: 收盤價\n",
      "0907: 漲跌價差\n",
      "0908: 成交筆數\n"
     ]
    },
    {
     "data": {
      "text/html": [
       "<div>\n",
       "<table border=\"1\" class=\"dataframe\">\n",
       "  <thead>\n",
       "    <tr style=\"text-align: right;\">\n",
       "      <th></th>\n",
       "      <th>0901</th>\n",
       "      <th>0902</th>\n",
       "      <th>open</th>\n",
       "      <th>high</th>\n",
       "      <th>low</th>\n",
       "      <th>close</th>\n",
       "      <th>0907</th>\n",
       "      <th>volume</th>\n",
       "    </tr>\n",
       "    <tr>\n",
       "      <th>date</th>\n",
       "      <th></th>\n",
       "      <th></th>\n",
       "      <th></th>\n",
       "      <th></th>\n",
       "      <th></th>\n",
       "      <th></th>\n",
       "      <th></th>\n",
       "      <th></th>\n",
       "    </tr>\n",
       "  </thead>\n",
       "  <tbody>\n",
       "    <tr>\n",
       "      <th>2017-10-02</th>\n",
       "      <td>1328711</td>\n",
       "      <td>14532447</td>\n",
       "      <td>11.00</td>\n",
       "      <td>11.00</td>\n",
       "      <td>10.90</td>\n",
       "      <td>10.90</td>\n",
       "      <td>0.00</td>\n",
       "      <td>389</td>\n",
       "    </tr>\n",
       "    <tr>\n",
       "      <th>2017-10-03</th>\n",
       "      <td>1844064</td>\n",
       "      <td>20080942</td>\n",
       "      <td>10.95</td>\n",
       "      <td>11.00</td>\n",
       "      <td>10.80</td>\n",
       "      <td>10.90</td>\n",
       "      <td>0.00</td>\n",
       "      <td>397</td>\n",
       "    </tr>\n",
       "    <tr>\n",
       "      <th>2017-10-05</th>\n",
       "      <td>5254308</td>\n",
       "      <td>57400488</td>\n",
       "      <td>10.90</td>\n",
       "      <td>11.10</td>\n",
       "      <td>10.75</td>\n",
       "      <td>11.05</td>\n",
       "      <td>0.15</td>\n",
       "      <td>1059</td>\n",
       "    </tr>\n",
       "    <tr>\n",
       "      <th>2017-10-06</th>\n",
       "      <td>2443256</td>\n",
       "      <td>26787784</td>\n",
       "      <td>11.10</td>\n",
       "      <td>11.10</td>\n",
       "      <td>10.90</td>\n",
       "      <td>10.95</td>\n",
       "      <td>-0.10</td>\n",
       "      <td>533</td>\n",
       "    </tr>\n",
       "    <tr>\n",
       "      <th>2017-10-11</th>\n",
       "      <td>8882369</td>\n",
       "      <td>100081479</td>\n",
       "      <td>11.30</td>\n",
       "      <td>11.45</td>\n",
       "      <td>11.10</td>\n",
       "      <td>11.20</td>\n",
       "      <td>0.25</td>\n",
       "      <td>1697</td>\n",
       "    </tr>\n",
       "  </tbody>\n",
       "</table>\n",
       "</div>"
      ],
      "text/plain": [
       "               0901       0902   open   high    low  close  0907  volume\n",
       "date                                                                    \n",
       "2017-10-02  1328711   14532447  11.00  11.00  10.90  10.90  0.00     389\n",
       "2017-10-03  1844064   20080942  10.95  11.00  10.80  10.90  0.00     397\n",
       "2017-10-05  5254308   57400488  10.90  11.10  10.75  11.05  0.15    1059\n",
       "2017-10-06  2443256   26787784  11.10  11.10  10.90  10.95 -0.10     533\n",
       "2017-10-11  8882369  100081479  11.30  11.45  11.10  11.20  0.25    1697"
      ]
     },
     "execution_count": 51,
     "metadata": {},
     "output_type": "execute_result"
    }
   ],
   "source": [
    "%run finance_analysis.py -v\n",
    "df.rename(columns={'0903': 'open', '0904': 'high', '0905': 'low', '0906': 'close', '0908': 'volume'}, inplace=True)\n",
    "df.head()"
   ]
  },
  {
   "cell_type": "code",
   "execution_count": 48,
   "metadata": {
    "collapsed": false
   },
   "outputs": [
    {
     "name": "stdout",
     "output_type": "stream",
     "text": [
      "<class 'pandas.tseries.index.DatetimeIndex'>\n",
      "<class 'pandas.tslib.Timestamp'>\n"
     ]
    }
   ],
   "source": [
    "open_price = df['open']\n",
    "close_price = df['close']\n",
    "\n",
    "# data = pd.concat([open_price, close_price], axis=1)\n",
    "# data_min = data.min(axis=1)\n",
    "\n",
    "x = np.arange(len(df))\n",
    "time_format = '%Y-%m-%d'\n",
    "x_tick_list = [(x[index], date.strftime(time_format)) for index, date in enumerate(df.index) if date.weekday() == 0]\n",
    "print type(df.index)\n",
    "print type(df.index[0])\n",
    "# x_tick_list = [(date.weekday, date.strftime(time_format)) for index, date in enumerate(df.index)]\n",
    "\n",
    "# x_tick_list\n",
    "# oc_min = pd.concat([open_price, close_price], axis=1).min(axis=1)\n",
    "# oc_max = pd.concat([open_price, close_price], axis=1).max(axis=1)"
   ]
  },
  {
   "cell_type": "code",
   "execution_count": 52,
   "metadata": {
    "collapsed": false
   },
   "outputs": [
    {
     "data": {
      "image/png": "[encoded data removed]",
      "text/plain": [
       "<matplotlib.figure.Figure at 0x7ffa3db48a50>"
      ]
     },
     "metadata": {},
     "output_type": "display_data"
    }
   ],
   "source": [
    "plot_candles(df[:60], title='6 months candles', volume_bars=True)"
   ]
  },
  {
   "cell_type": "code",
   "execution_count": 53,
   "metadata": {
    "collapsed": false
   },
   "outputs": [
    {
     "ename": "KeyError",
     "evalue": "'0005'",
     "output_type": "error",
     "traceback": [
      "\u001b[0;31m---------------------------------------------------------------------------\u001b[0m",
      "\u001b[0;31mKeyError\u001b[0m                                  Traceback (most recent call last)",
      "\u001b[0;32m<ipython-input-53-dbcb82aa4247>\u001b[0m in \u001b[0;36m<module>\u001b[0;34m()\u001b[0m\n\u001b[1;32m      1\u001b[0m \u001b[0mplt\u001b[0m\u001b[0;34m.\u001b[0m\u001b[0mshow\u001b[0m\u001b[0;34m(\u001b[0m\u001b[0;34m)\u001b[0m\u001b[0;34m\u001b[0m\u001b[0m\n\u001b[0;32m----> 2\u001b[0;31m \u001b[0mplt\u001b[0m\u001b[0;34m.\u001b[0m\u001b[0mplot\u001b[0m\u001b[0;34m(\u001b[0m\u001b[0mdf\u001b[0m\u001b[0;34m[\u001b[0m\u001b[0;34m'0005'\u001b[0m\u001b[0;34m]\u001b[0m\u001b[0;34m)\u001b[0m\u001b[0;34m\u001b[0m\u001b[0m\n\u001b[0m",
      "\u001b[0;32m/home/super/anaconda/lib/python2.7/site-packages/pandas/core/frame.pyc\u001b[0m in \u001b[0;36m__getitem__\u001b[0;34m(self, key)\u001b[0m\n\u001b[1;32m   1995\u001b[0m             \u001b[0;32mreturn\u001b[0m \u001b[0mself\u001b[0m\u001b[0;34m.\u001b[0m\u001b[0m_getitem_multilevel\u001b[0m\u001b[0;34m(\u001b[0m\u001b[0mkey\u001b[0m\u001b[0;34m)\u001b[0m\u001b[0;34m\u001b[0m\u001b[0m\n\u001b[1;32m   1996\u001b[0m         \u001b[0;32melse\u001b[0m\u001b[0;34m:\u001b[0m\u001b[0;34m\u001b[0m\u001b[0m\n\u001b[0;32m-> 1997\u001b[0;31m             \u001b[0;32mreturn\u001b[0m \u001b[0mself\u001b[0m\u001b[0;34m.\u001b[0m\u001b[0m_getitem_column\u001b[0m\u001b[0;34m(\u001b[0m\u001b[0mkey\u001b[0m\u001b[0;34m)\u001b[0m\u001b[0;34m\u001b[0m\u001b[0m\n\u001b[0m\u001b[1;32m   1998\u001b[0m \u001b[0;34m\u001b[0m\u001b[0m\n\u001b[1;32m   1999\u001b[0m     \u001b[0;32mdef\u001b[0m \u001b[0m_getitem_column\u001b[0m\u001b[0;34m(\u001b[0m\u001b[0mself\u001b[0m\u001b[0;34m,\u001b[0m \u001b[0mkey\u001b[0m\u001b[0;34m)\u001b[0m\u001b[0;34m:\u001b[0m\u001b[0;34m\u001b[0m\u001b[0m\n",
      "\u001b[0;32m/home/super/anaconda/lib/python2.7/site-packages/pandas/core/frame.pyc\u001b[0m in \u001b[0;36m_getitem_column\u001b[0;34m(self, key)\u001b[0m\n\u001b[1;32m   2002\u001b[0m         \u001b[0;31m# get column\u001b[0m\u001b[0;34m\u001b[0m\u001b[0;34m\u001b[0m\u001b[0m\n\u001b[1;32m   2003\u001b[0m         \u001b[0;32mif\u001b[0m \u001b[0mself\u001b[0m\u001b[0;34m.\u001b[0m\u001b[0mcolumns\u001b[0m\u001b[0;34m.\u001b[0m\u001b[0mis_unique\u001b[0m\u001b[0;34m:\u001b[0m\u001b[0;34m\u001b[0m\u001b[0m\n\u001b[0;32m-> 2004\u001b[0;31m             \u001b[0;32mreturn\u001b[0m \u001b[0mself\u001b[0m\u001b[0;34m.\u001b[0m\u001b[0m_get_item_cache\u001b[0m\u001b[0;34m(\u001b[0m\u001b[0mkey\u001b[0m\u001b[0;34m)\u001b[0m\u001b[0;34m\u001b[0m\u001b[0m\n\u001b[0m\u001b[1;32m   2005\u001b[0m \u001b[0;34m\u001b[0m\u001b[0m\n\u001b[1;32m   2006\u001b[0m         \u001b[0;31m# duplicate columns & possible reduce dimensionality\u001b[0m\u001b[0;34m\u001b[0m\u001b[0;34m\u001b[0m\u001b[0m\n",
      "\u001b[0;32m/home/super/anaconda/lib/python2.7/site-packages/pandas/core/generic.pyc\u001b[0m in \u001b[0;36m_get_item_cache\u001b[0;34m(self, item)\u001b[0m\n\u001b[1;32m   1348\u001b[0m         \u001b[0mres\u001b[0m \u001b[0;34m=\u001b[0m \u001b[0mcache\u001b[0m\u001b[0;34m.\u001b[0m\u001b[0mget\u001b[0m\u001b[0;34m(\u001b[0m\u001b[0mitem\u001b[0m\u001b[0;34m)\u001b[0m\u001b[0;34m\u001b[0m\u001b[0m\n\u001b[1;32m   1349\u001b[0m         \u001b[0;32mif\u001b[0m \u001b[0mres\u001b[0m \u001b[0;32mis\u001b[0m \u001b[0mNone\u001b[0m\u001b[0;34m:\u001b[0m\u001b[0;34m\u001b[0m\u001b[0m\n\u001b[0;32m-> 1350\u001b[0;31m             \u001b[0mvalues\u001b[0m \u001b[0;34m=\u001b[0m \u001b[0mself\u001b[0m\u001b[0;34m.\u001b[0m\u001b[0m_data\u001b[0m\u001b[0;34m.\u001b[0m\u001b[0mget\u001b[0m\u001b[0;34m(\u001b[0m\u001b[0mitem\u001b[0m\u001b[0;34m)\u001b[0m\u001b[0;34m\u001b[0m\u001b[0m\n\u001b[0m\u001b[1;32m   1351\u001b[0m             \u001b[0mres\u001b[0m \u001b[0;34m=\u001b[0m \u001b[0mself\u001b[0m\u001b[0;34m.\u001b[0m\u001b[0m_box_item_values\u001b[0m\u001b[0;34m(\u001b[0m\u001b[0mitem\u001b[0m\u001b[0;34m,\u001b[0m \u001b[0mvalues\u001b[0m\u001b[0;34m)\u001b[0m\u001b[0;34m\u001b[0m\u001b[0m\n\u001b[1;32m   1352\u001b[0m             \u001b[0mcache\u001b[0m\u001b[0;34m[\u001b[0m\u001b[0mitem\u001b[0m\u001b[0;34m]\u001b[0m \u001b[0;34m=\u001b[0m \u001b[0mres\u001b[0m\u001b[0;34m\u001b[0m\u001b[0m\n",
      "\u001b[0;32m/home/super/anaconda/lib/python2.7/site-packages/pandas/core/internals.pyc\u001b[0m in \u001b[0;36mget\u001b[0;34m(self, item, fastpath)\u001b[0m\n\u001b[1;32m   3288\u001b[0m \u001b[0;34m\u001b[0m\u001b[0m\n\u001b[1;32m   3289\u001b[0m             \u001b[0;32mif\u001b[0m \u001b[0;32mnot\u001b[0m \u001b[0misnull\u001b[0m\u001b[0;34m(\u001b[0m\u001b[0mitem\u001b[0m\u001b[0;34m)\u001b[0m\u001b[0;34m:\u001b[0m\u001b[0;34m\u001b[0m\u001b[0m\n\u001b[0;32m-> 3290\u001b[0;31m                 \u001b[0mloc\u001b[0m \u001b[0;34m=\u001b[0m \u001b[0mself\u001b[0m\u001b[0;34m.\u001b[0m\u001b[0mitems\u001b[0m\u001b[0;34m.\u001b[0m\u001b[0mget_loc\u001b[0m\u001b[0;34m(\u001b[0m\u001b[0mitem\u001b[0m\u001b[0;34m)\u001b[0m\u001b[0;34m\u001b[0m\u001b[0m\n\u001b[0m\u001b[1;32m   3291\u001b[0m             \u001b[0;32melse\u001b[0m\u001b[0;34m:\u001b[0m\u001b[0;34m\u001b[0m\u001b[0m\n\u001b[1;32m   3292\u001b[0m                 \u001b[0mindexer\u001b[0m \u001b[0;34m=\u001b[0m \u001b[0mnp\u001b[0m\u001b[0;34m.\u001b[0m\u001b[0marange\u001b[0m\u001b[0;34m(\u001b[0m\u001b[0mlen\u001b[0m\u001b[0;34m(\u001b[0m\u001b[0mself\u001b[0m\u001b[0;34m.\u001b[0m\u001b[0mitems\u001b[0m\u001b[0;34m)\u001b[0m\u001b[0;34m)\u001b[0m\u001b[0;34m[\u001b[0m\u001b[0misnull\u001b[0m\u001b[0;34m(\u001b[0m\u001b[0mself\u001b[0m\u001b[0;34m.\u001b[0m\u001b[0mitems\u001b[0m\u001b[0;34m)\u001b[0m\u001b[0;34m]\u001b[0m\u001b[0;34m\u001b[0m\u001b[0m\n",
      "\u001b[0;32m/home/super/anaconda/lib/python2.7/site-packages/pandas/indexes/base.pyc\u001b[0m in \u001b[0;36mget_loc\u001b[0;34m(self, key, method, tolerance)\u001b[0m\n\u001b[1;32m   1945\u001b[0m                 \u001b[0;32mreturn\u001b[0m \u001b[0mself\u001b[0m\u001b[0;34m.\u001b[0m\u001b[0m_engine\u001b[0m\u001b[0;34m.\u001b[0m\u001b[0mget_loc\u001b[0m\u001b[0;34m(\u001b[0m\u001b[0mkey\u001b[0m\u001b[0;34m)\u001b[0m\u001b[0;34m\u001b[0m\u001b[0m\n\u001b[1;32m   1946\u001b[0m             \u001b[0;32mexcept\u001b[0m \u001b[0mKeyError\u001b[0m\u001b[0;34m:\u001b[0m\u001b[0;34m\u001b[0m\u001b[0m\n\u001b[0;32m-> 1947\u001b[0;31m                 \u001b[0;32mreturn\u001b[0m \u001b[0mself\u001b[0m\u001b[0;34m.\u001b[0m\u001b[0m_engine\u001b[0m\u001b[0;34m.\u001b[0m\u001b[0mget_loc\u001b[0m\u001b[0;34m(\u001b[0m\u001b[0mself\u001b[0m\u001b[0;34m.\u001b[0m\u001b[0m_maybe_cast_indexer\u001b[0m\u001b[0;34m(\u001b[0m\u001b[0mkey\u001b[0m\u001b[0;34m)\u001b[0m\u001b[0;34m)\u001b[0m\u001b[0;34m\u001b[0m\u001b[0m\n\u001b[0m\u001b[1;32m   1948\u001b[0m \u001b[0;34m\u001b[0m\u001b[0m\n\u001b[1;32m   1949\u001b[0m         \u001b[0mindexer\u001b[0m \u001b[0;34m=\u001b[0m \u001b[0mself\u001b[0m\u001b[0;34m.\u001b[0m\u001b[0mget_indexer\u001b[0m\u001b[0;34m(\u001b[0m\u001b[0;34m[\u001b[0m\u001b[0mkey\u001b[0m\u001b[0;34m]\u001b[0m\u001b[0;34m,\u001b[0m \u001b[0mmethod\u001b[0m\u001b[0;34m=\u001b[0m\u001b[0mmethod\u001b[0m\u001b[0;34m,\u001b[0m \u001b[0mtolerance\u001b[0m\u001b[0;34m=\u001b[0m\u001b[0mtolerance\u001b[0m\u001b[0;34m)\u001b[0m\u001b[0;34m\u001b[0m\u001b[0m\n",
      "\u001b[0;32mpandas/index.pyx\u001b[0m in \u001b[0;36mpandas.index.IndexEngine.get_loc (pandas/index.c:4154)\u001b[0;34m()\u001b[0m\n",
      "\u001b[0;32mpandas/index.pyx\u001b[0m in \u001b[0;36mpandas.index.IndexEngine.get_loc (pandas/index.c:4018)\u001b[0;34m()\u001b[0m\n",
      "\u001b[0;32mpandas/hashtable.pyx\u001b[0m in \u001b[0;36mpandas.hashtable.PyObjectHashTable.get_item (pandas/hashtable.c:12368)\u001b[0;34m()\u001b[0m\n",
      "\u001b[0;32mpandas/hashtable.pyx\u001b[0m in \u001b[0;36mpandas.hashtable.PyObjectHashTable.get_item (pandas/hashtable.c:12322)\u001b[0;34m()\u001b[0m\n",
      "\u001b[0;31mKeyError\u001b[0m: '0005'"
     ]
    }
   ],
   "source": [
    "plt.show()\n",
    "plt.plot(df['0005'])"
   ]
  },
  {
   "cell_type": "code",
   "execution_count": 7,
   "metadata": {
    "collapsed": false,
    "scrolled": true
   },
   "outputs": [
    {
     "data": {
      "text/html": [
       "<div>\n",
       "<table border=\"1\" class=\"dataframe\">\n",
       "  <thead>\n",
       "    <tr style=\"text-align: right;\">\n",
       "      <th></th>\n",
       "      <th>0703</th>\n",
       "      <th>0704</th>\n",
       "      <th>0707</th>\n",
       "      <th>0708</th>\n",
       "      <th>0712</th>\n",
       "      <th>0713</th>\n",
       "      <th>0716</th>\n",
       "      <th>0717</th>\n",
       "    </tr>\n",
       "    <tr>\n",
       "      <th>date</th>\n",
       "      <th></th>\n",
       "      <th></th>\n",
       "      <th></th>\n",
       "      <th></th>\n",
       "      <th></th>\n",
       "      <th></th>\n",
       "      <th></th>\n",
       "      <th></th>\n",
       "    </tr>\n",
       "  </thead>\n",
       "  <tbody>\n",
       "    <tr>\n",
       "      <th>2014-01-02</th>\n",
       "      <td>32221</td>\n",
       "      <td>49.0</td>\n",
       "      <td>30893</td>\n",
       "      <td>47.0</td>\n",
       "      <td>33316</td>\n",
       "      <td>44.2</td>\n",
       "      <td>31688</td>\n",
       "      <td>42.0</td>\n",
       "    </tr>\n",
       "    <tr>\n",
       "      <th>2014-01-03</th>\n",
       "      <td>29668</td>\n",
       "      <td>45.2</td>\n",
       "      <td>31555</td>\n",
       "      <td>48.1</td>\n",
       "      <td>31168</td>\n",
       "      <td>40.8</td>\n",
       "      <td>33085</td>\n",
       "      <td>43.3</td>\n",
       "    </tr>\n",
       "    <tr>\n",
       "      <th>2014-01-06</th>\n",
       "      <td>28050</td>\n",
       "      <td>43.8</td>\n",
       "      <td>29830</td>\n",
       "      <td>46.5</td>\n",
       "      <td>30103</td>\n",
       "      <td>39.7</td>\n",
       "      <td>32094</td>\n",
       "      <td>42.3</td>\n",
       "    </tr>\n",
       "    <tr>\n",
       "      <th>2014-01-07</th>\n",
       "      <td>28801</td>\n",
       "      <td>44.2</td>\n",
       "      <td>30396</td>\n",
       "      <td>46.6</td>\n",
       "      <td>30487</td>\n",
       "      <td>38.7</td>\n",
       "      <td>33928</td>\n",
       "      <td>43.1</td>\n",
       "    </tr>\n",
       "    <tr>\n",
       "      <th>2014-01-08</th>\n",
       "      <td>27142</td>\n",
       "      <td>43.0</td>\n",
       "      <td>29973</td>\n",
       "      <td>47.5</td>\n",
       "      <td>29089</td>\n",
       "      <td>37.3</td>\n",
       "      <td>33859</td>\n",
       "      <td>43.4</td>\n",
       "    </tr>\n",
       "  </tbody>\n",
       "</table>\n",
       "</div>"
      ],
      "text/plain": [
       "             0703  0704   0707  0708   0712  0713   0716  0717\n",
       "date                                                          \n",
       "2014-01-02  32221  49.0  30893  47.0  33316  44.2  31688  42.0\n",
       "2014-01-03  29668  45.2  31555  48.1  31168  40.8  33085  43.3\n",
       "2014-01-06  28050  43.8  29830  46.5  30103  39.7  32094  42.3\n",
       "2014-01-07  28801  44.2  30396  46.6  30487  38.7  33928  43.1\n",
       "2014-01-08  27142  43.0  29973  47.5  29089  37.3  33859  43.4"
      ]
     },
     "execution_count": 7,
     "metadata": {},
     "output_type": "execute_result"
    }
   ],
   "source": [
    "df.head()\n",
    "df_drop = df.drop('0005',axis=1)\n",
    "df_drop.head()\n",
    "df_drop.iloc[0:5]"
   ]
  },
  {
   "cell_type": "code",
   "execution_count": 51,
   "metadata": {
    "collapsed": false
   },
   "outputs": [
    {
     "data": {
      "text/plain": [
       "pandas.core.series.Series"
      ]
     },
     "execution_count": 51,
     "metadata": {},
     "output_type": "execute_result"
    }
   ],
   "source": [
    "type(df_drop.iloc[0:3].sum())"
   ]
  },
  {
   "cell_type": "code",
   "execution_count": 68,
   "metadata": {
    "collapsed": false
   },
   "outputs": [
    {
     "data": {
      "text/html": [
       "<div>\n",
       "<table border=\"1\" class=\"dataframe\">\n",
       "  <thead>\n",
       "    <tr style=\"text-align: right;\">\n",
       "      <th></th>\n",
       "      <th>0103</th>\n",
       "      <th>0106</th>\n",
       "      <th>0109</th>\n",
       "      <th>0112</th>\n",
       "      <th>total</th>\n",
       "      <th>0005</th>\n",
       "    </tr>\n",
       "    <tr>\n",
       "      <th>date</th>\n",
       "      <th></th>\n",
       "      <th></th>\n",
       "      <th></th>\n",
       "      <th></th>\n",
       "      <th></th>\n",
       "      <th></th>\n",
       "    </tr>\n",
       "  </thead>\n",
       "  <tbody>\n",
       "    <tr>\n",
       "      <th>2014-12-26</th>\n",
       "      <td>1909108636</td>\n",
       "      <td>1843429221</td>\n",
       "      <td>-6927044009</td>\n",
       "      <td>-57354364694</td>\n",
       "      <td>-60528870846</td>\n",
       "      <td>55.37</td>\n",
       "    </tr>\n",
       "    <tr>\n",
       "      <th>2014-12-27</th>\n",
       "      <td>1991152806</td>\n",
       "      <td>2214395353</td>\n",
       "      <td>-7036829143</td>\n",
       "      <td>-52138430707</td>\n",
       "      <td>-54969711691</td>\n",
       "      <td>4.43</td>\n",
       "    </tr>\n",
       "    <tr>\n",
       "      <th>2014-12-29</th>\n",
       "      <td>2211624712</td>\n",
       "      <td>4084193265</td>\n",
       "      <td>-4927808876</td>\n",
       "      <td>-33119737182</td>\n",
       "      <td>-31751728081</td>\n",
       "      <td>67.78</td>\n",
       "    </tr>\n",
       "    <tr>\n",
       "      <th>2014-12-30</th>\n",
       "      <td>1409485515</td>\n",
       "      <td>145379469</td>\n",
       "      <td>-4840746820</td>\n",
       "      <td>-29815171225</td>\n",
       "      <td>-33101053061</td>\n",
       "      <td>-17.85</td>\n",
       "    </tr>\n",
       "    <tr>\n",
       "      <th>2014-12-31</th>\n",
       "      <td>1338871606</td>\n",
       "      <td>-1622033707</td>\n",
       "      <td>-6009633901</td>\n",
       "      <td>-35009619808</td>\n",
       "      <td>-41302415810</td>\n",
       "      <td>38.83</td>\n",
       "    </tr>\n",
       "  </tbody>\n",
       "</table>\n",
       "</div>"
      ],
      "text/plain": [
       "                  0103        0106        0109         0112        total  \\\n",
       "date                                                                       \n",
       "2014-12-26  1909108636  1843429221 -6927044009 -57354364694 -60528870846   \n",
       "2014-12-27  1991152806  2214395353 -7036829143 -52138430707 -54969711691   \n",
       "2014-12-29  2211624712  4084193265 -4927808876 -33119737182 -31751728081   \n",
       "2014-12-30  1409485515   145379469 -4840746820 -29815171225 -33101053061   \n",
       "2014-12-31  1338871606 -1622033707 -6009633901 -35009619808 -41302415810   \n",
       "\n",
       "             0005  \n",
       "date               \n",
       "2014-12-26  55.37  \n",
       "2014-12-27   4.43  \n",
       "2014-12-29  67.78  \n",
       "2014-12-30 -17.85  \n",
       "2014-12-31  38.83  "
      ]
     },
     "execution_count": 68,
     "metadata": {},
     "output_type": "execute_result"
    }
   ],
   "source": [
    "def accumulate(df, accumulate_cnt):\n",
    "#     accumulate_cnt = 3\n",
    "    start_index = accumulate_cnt - 1\n",
    "    cur_index = start_index \n",
    "    accumulate_df = pd.DataFrame(index=df.index[start_index:], columns=df.columns)\n",
    "    for index in range(len(accumulate_df)):\n",
    "        accumulate_df.iloc[index] = df.iloc[index:index+accumulate_cnt].sum()\n",
    "    accumulate_df\n",
    "    return accumulate_df\n",
    "accumulate_cnt = 20\n",
    "accumulate_df = accumulate(df.drop('0005',axis=1), accumulate_cnt)\n",
    "accumulate_df['0005'] = df['0005'].iloc[accumulate_cnt-1:]\n",
    "accumulate_df.head()\n",
    "# accumulate_cnt = 3\n",
    "# cur_index = accumulate_cnt\n",
    "# for index, row in df_drop[accumulate_cnt:].iterrows():\n",
    "#     accumulate_sum = df[cur_index:cur_index+accumulate_cnt].sum()\n",
    "#     print(index, accumulate_sum['0005'])\n",
    "#     cur_index += 1"
   ]
  },
  {
   "cell_type": "code",
   "execution_count": 69,
   "metadata": {
    "collapsed": false
   },
   "outputs": [
    {
     "data": {
      "text/plain": [
       "<matplotlib.axes._subplots.AxesSubplot at 0x7f9cd93b86d0>"
      ]
     },
     "execution_count": 69,
     "metadata": {},
     "output_type": "execute_result"
    },
    {
     "data": {
      "image/png": "[encoded data removed]",
      "text/plain": [
       "<matplotlib.figure.Figure at 0x7f9cd93d3550>"
      ]
     },
     "metadata": {},
     "output_type": "display_data"
    }
   ],
   "source": [
    "sns.heatmap(accumulate_df.corr(), annot=True)"
   ]
  },
  {
   "cell_type": "code",
   "execution_count": null,
   "metadata": {
    "collapsed": true
   },
   "outputs": [],
   "source": []
  }
 ],
 "metadata": {
  "anaconda-cloud": {},
  "kernelspec": {
   "display_name": "Python [default]",
   "language": "python",
   "name": "python2"
  },
  "language_info": {
   "codemirror_mode": {
    "name": "ipython",
    "version": 2
   },
   "file_extension": ".py",
   "mimetype": "text/x-python",
   "name": "python",
   "nbconvert_exporter": "python",
   "pygments_lexer": "ipython2",
   "version": "2.7.12"
  }
 },
 "nbformat": 4,
 "nbformat_minor": 1
}
